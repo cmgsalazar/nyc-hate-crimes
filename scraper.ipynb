{
 "cells": [
  {
   "cell_type": "markdown",
   "id": "1a0953ca-2578-4923-a849-0426ae274c4b",
   "metadata": {},
   "source": [
    "## Scraping datasets\n",
    "\n",
    "For the first Final Project for the Lede Program, I decided to write about hate crimes in New York. I initially found and downloaded datasets from the [Federal Bureau of Investigation (FBI)](https://cde.ucr.cjis.gov/LATEST/webapp/#/pages/explorer/crime/hate-crime), but the data cover only up to 2022. \n",
    "\n",
    "Then, I found more updated data from the [New York Police Department](https://www.nyc.gov/site/nypd/stats/reports-analysis/hate-crimes.page) and decided to use that instead. \n",
    "\n",
    "#### I begin by scraping files from the webpage."
   ]
  },
  {
   "cell_type": "code",
   "execution_count": 1,
   "id": "99a11196-6836-4caf-928e-bf9e5bce23d4",
   "metadata": {},
   "outputs": [],
   "source": [
    "# Setting up libraries\n",
    "\n",
    "import pandas\n",
    "import requests\n",
    "from bs4 import BeautifulSoup"
   ]
  },
  {
   "cell_type": "code",
   "execution_count": 20,
   "id": "d406318a-8bb0-4dba-8fce-f4164f099e12",
   "metadata": {},
   "outputs": [],
   "source": [
    "# Grabbing HTML\n",
    "\n",
    "url = 'https://www.nyc.gov/site/nypd/stats/reports-analysis/hate-crimes.page'\n",
    "response = requests.get(url)"
   ]
  },
  {
   "cell_type": "code",
   "execution_count": 21,
   "id": "ba88f736-8c82-4084-b084-5592d7427cc1",
   "metadata": {},
   "outputs": [],
   "source": [
    "# Converting HTML into DOM\n",
    "\n",
    "response_html = response.text\n",
    "soup = BeautifulSoup(response_html)"
   ]
  },
  {
   "cell_type": "code",
   "execution_count": 27,
   "id": "b2000546-93c5-45da-a958-78dd02ad0995",
   "metadata": {},
   "outputs": [],
   "source": [
    "# Selecting only `a` that links to `.xslx`\n",
    "# An issue is that, based on the source code, the page does not seem to use `id` and `class`\n",
    "\n",
    "links = soup.select('a')\n",
    "\n",
    "excel_sheets = []\n",
    "\n",
    "for link in links:\n",
    "    href = link.get('href', '')\n",
    "    if href.endswith('.xlsx') or href.endswith('.xls'):\n",
    "        excel_sheets.append(href)"
   ]
  },
  {
   "cell_type": "code",
   "execution_count": 38,
   "id": "ad10f0dc-596a-420d-bd10-ab224d9e1d62",
   "metadata": {},
   "outputs": [],
   "source": [
    "# Now, I have a list. \n",
    "# But the items don't have the complete URL. \n",
    "\n",
    "excel_links = []\n",
    "\n",
    "for sheet in excel_sheets:\n",
    "    # print(f\"https://www.nyc.gov{sheet}\")\n",
    "    excel_links.append(\"https://www.nyc.gov\" + sheet)"
   ]
  },
  {
   "cell_type": "code",
   "execution_count": 52,
   "id": "5e88619a-924b-45e8-84c9-8051824a89c0",
   "metadata": {},
   "outputs": [
    {
     "data": {
      "text/plain": [
       "84"
      ]
     },
     "execution_count": 52,
     "metadata": {},
     "output_type": "execute_result"
    }
   ],
   "source": [
    "len(excel_links)"
   ]
  },
  {
   "cell_type": "code",
   "execution_count": 47,
   "id": "4abb41be-798c-4428-83fd-665dd932637d",
   "metadata": {},
   "outputs": [
    {
     "name": "stdout",
     "output_type": "stream",
     "text": [
      "Downloaded: hate-crime-complaints-arrests-summary-q1-2024.xlsx\n",
      "Downloaded: hate-crime-complaints-arrests-summary-annual-2023.xlsx\n",
      "Downloaded: hate-crime-complaints-arrests-summary-q4-2023.xlsx\n",
      "Downloaded: hate-crimes-complaints-arrests-summary-q3-2023.xlsx\n",
      "Downloaded: hate-crimes-complaints-arrests-summary-q2-2023.xlsx\n",
      "Downloaded: hate-crimes-complaints-arrests-summary-1q-2023.xlsx\n",
      "Downloaded: hate-crime-complaints-arrests-summary-annual-2022.xlsx\n",
      "Downloaded: hate-crime-complaints-arrests-summary-q4-2022.xlsx\n",
      "Downloaded: hate-crimes-complaints-arrests-summary-q3-2022.xlsx\n",
      "Downloaded: hate-crimes-complaints-arrests-summary-q2-2022.xlsx\n",
      "Downloaded: hate-crimes-complaints-arrests-summary-q1-2022.xlsx\n",
      "Downloaded: hate-crime-complaints-arrests-summary-annual-2021.xlsx\n",
      "Downloaded: hate-crime-complaints-arrests-summary-q4-2021.xlsx\n",
      "Downloaded: hate-crime-complaints-arrests-summary-q3-2021.xlsx\n",
      "Downloaded: hate-crime-complaints-arrests-summary-q2-2021.xlsx\n",
      "Downloaded: hate-crimes-complaints-arrests-summary-q1-2021.xlsx\n",
      "Downloaded: copy-of-hate-crime-complaints-arrests-summary-annual-2020.xlsx\n",
      "Downloaded: hate-crime-complaints-q4-2020.xlsx\n",
      "Downloaded: hate-crime-complaints-q3-2020.xlsx\n",
      "Downloaded: hate-crime-complaints-arrests-summary-q2-2020.xlsx\n",
      "Downloaded: hate-crime-complaints-arrests-summary-q1-2020.xlsx\n",
      "Downloaded: hate-crime-complaints-q1-2024.xlsx\n",
      "Downloaded: hate-crime-complaints-annual-2023.xlsx\n",
      "Downloaded: hate-crime-complaints-q4-2023.xlsx\n",
      "Downloaded: hate-crime-complaints-q3-2023.xlsx\n",
      "Downloaded: hate-crime-complaints-q2-2023.xlsx\n",
      "Downloaded: hate-crimes-complaints-q1-2023.xlsx\n",
      "Downloaded: hate-crime-complaints-annual-2022.xlsx\n",
      "Downloaded: hate-crime-complaints-q4-2022.xlsx\n",
      "Downloaded: hate-crime-complaints-q3-2022.xlsx\n",
      "Downloaded: hate-crime-complaints-q2-2022.xlsx\n",
      "Downloaded: hate-crime-complaints-q1-2022.xlsx\n",
      "Downloaded: hate-crime-complaints-annual-2021.xlsx\n",
      "Downloaded: hate-crime-complaints-q4-2021.xlsx\n",
      "Downloaded: hate-crime-complaints-q3-2021.xlsx\n",
      "Downloaded: hate-crime-complaints-q2-2021.xlsx\n",
      "Downloaded: hate-crime-complaints-q1-2021.xlsx\n",
      "Downloaded: hate-crime-complaints-annual-2020.xlsx\n",
      "Downloaded: hate-crime-complaints-arrests-summary-q4-2020.xlsx\n",
      "Downloaded: hate-crime-complaints-arrests-summary-q3-2020.xlsx\n",
      "Downloaded: hate-crime-complaints-q2-2020.xlsx\n",
      "Downloaded: hate-crime-complaints-q1-2020.xlsx\n",
      "Downloaded: hate-crime-complaints-by-motivation-q1-2024.xlsx\n",
      "Downloaded: hate-crime-complaints-by-motivation-annual-2023.xlsx\n",
      "Downloaded: hate-crime-complaints-by-motivation-q4-2023.xlsx\n",
      "Downloaded: hate-crime-complaints-by-motivation-q3-2023.xlsx\n",
      "Downloaded: hate-crime-complaints-by-motivation-q2-2023.xlsx\n",
      "Downloaded: hate-crime-complaints-by-motivation-q1-2023.xlsx\n",
      "Downloaded: hate-crime-complaints-by-motivation-annual-2022.xlsx\n",
      "Downloaded: hate-crime-complaints-by-motivation-q4-2022.xlsx\n",
      "Downloaded: hate-crime-complaints-by-motiviation-q3-2022.xlsx\n",
      "Downloaded: hate-crime-complaints-by-motivation-q2-2022.xlsx\n",
      "Downloaded: hate-crime-complaints-by-motivation-q1-2022.xlsx\n",
      "Downloaded: hate-crime-complaints-by-motivation-annual-2021.xlsx\n",
      "Downloaded: hate-crime-complaints-by-motivation-q4-2021.xlsx\n",
      "Downloaded: hate-crime-complaints-by-motivation-q3-2021.xlsx\n",
      "Downloaded: hate-crime-complaints-by-motivation-q2-2021.xlsx\n",
      "Downloaded: hate-crime-complaints-by-motiviation-q1-2021.xlsx\n",
      "Downloaded: hate-crime-complaints-by-motivation-annual-2020.xlsx\n",
      "Downloaded: hate-crime-complaints-by-motivation-q4-2020.xlsx\n",
      "Downloaded: hate-crime-complaints-by-motivation-q3-2020.xlsx\n",
      "Downloaded: hate-crime-complaints-by-motivation-q2-202020.xlsx\n",
      "Downloaded: hate-crime-complaints-by-motivation-q1-202020.xlsx\n",
      "Downloaded: hate-crime-arrests-by-motivation-q1-2024.xlsx\n",
      "Downloaded: hate-crime-arrests-by-motivation-annual-2023.xlsx\n",
      "Downloaded: hate-crime-arrests-by-motivation-q4-2023.xlsx\n",
      "Downloaded: hate-crime-arrests-by-motivation-q3-2023.xlsx\n",
      "Downloaded: hate-crimes-arrests-by-motivation-q2-2023.xlsx\n",
      "Downloaded: hate-crimes-arrests-by-motivation-q1-2023.xlsx\n",
      "Downloaded: hate-crime-arrests-by-motivation-annual-2022.xlsx\n",
      "Downloaded: hate-crime-arrests-by-motivation-q4-2022.xlsx\n",
      "Downloaded: hate-crime-arrests-by-motivation-q3-2022.xlsx\n",
      "Downloaded: hate-crime-arrests-by-motivation-q2-2022.xlsx\n",
      "Downloaded: hate-crime-arrests-by-motivation-q1-2022.xlsx\n",
      "Downloaded: hate-crime-arrests-by-motivation-annual-2021.xlsx\n",
      "Downloaded: hate-crime-arrests-by-motivation-q4-2021.xlsx\n",
      "Downloaded: hate-crime-arrests-by-motivation-q3-2021.xlsx\n",
      "Downloaded: hate-crime-arrests-by-motivation-q2-2021.xlsx\n",
      "Downloaded: hate-crime-arrests-by-motivation-q1-2021.xlsx\n",
      "Downloaded: hate-crime-arrests-by-motivation-annual-2020.xlsx\n",
      "Downloaded: hate-crime-arrests-by-motivation-q4-2020.xlsx\n",
      "Downloaded: hate-crime-arrests-by-motivation-q3-2020.xlsx\n",
      "Downloaded: hate-crime-arrests-by-motivation-q2-2020.xlsx\n",
      "Downloaded: hate-crime-arrests-by-motivation-q1-2020.xlsx\n"
     ]
    }
   ],
   "source": [
    "# Downloading each of the files...\n",
    "\n",
    "for link in excel_links:\n",
    "    filename = link.split('/')[-1]\n",
    "    response = requests.get(link)\n",
    "    with open(filename, 'wb') as f:\n",
    "        f.write(response.content)\n",
    "    print(f\"Downloaded: {filename}\")"
   ]
  },
  {
   "cell_type": "code",
   "execution_count": null,
   "id": "5692a8e7-6c61-4c48-908d-b814d553838a",
   "metadata": {},
   "outputs": [],
   "source": []
  }
 ],
 "metadata": {
  "kernelspec": {
   "display_name": "Python 3 (ipykernel)",
   "language": "python",
   "name": "python3"
  },
  "language_info": {
   "codemirror_mode": {
    "name": "ipython",
    "version": 3
   },
   "file_extension": ".py",
   "mimetype": "text/x-python",
   "name": "python",
   "nbconvert_exporter": "python",
   "pygments_lexer": "ipython3",
   "version": "3.11.8"
  }
 },
 "nbformat": 4,
 "nbformat_minor": 5
}
